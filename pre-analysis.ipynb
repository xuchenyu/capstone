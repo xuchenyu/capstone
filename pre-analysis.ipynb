{
 "cells": [
  {
   "cell_type": "code",
   "execution_count": null,
   "metadata": {
    "collapsed": false
   },
   "outputs": [],
   "source": [
    "# load all the packages?\n",
    "%matplotlib inline\n",
    "import numpy as np\n",
    "import pandas as pd\n",
    "import matplotlib.pyplot as plt\n",
    "import seaborn as sns\n",
    "from datetime import datetime\n",
    "#pd.set_option('notebook_repr_html', True)\n",
    "#pd.set_option('display.max_rows', 50)\n",
    "from collections import OrderedDict\n",
    "from bokeh.plotting import figure, show, output_notebook, ColumnDataSource\n",
    "from bokeh.models import HoverTool"
   ]
  },
  {
   "cell_type": "code",
   "execution_count": null,
   "metadata": {
    "collapsed": false
   },
   "outputs": [],
   "source": [
    "# load all the data\n",
    "#trips1 = pd.read_csv('~/TDI/divvy/useful_data/Divvy_Trips_2014-Q1Q2.csv')#.astype(str)\n",
    "trips2 = pd.read_csv('~/TDI/divvy/useful_data/Divvy_Trips_2014-Q3-07.csv')#.astype(str)\n",
    "#trips3 = pd.read_csv('~/TDI/divvy/useful_data/Divvy_Trips_2014-Q3-0809.csv')#.astype(str)\n",
    "#trips4 = pd.read_csv('~/TDI/divvy/useful_data/Divvy_Trips_2014-Q4.csv')#.astype(str)\n",
    "#trips5 = pd.read_csv('~/TDI/divvy/useful_data/Divvy_Trips_2013.csv').astype(str)\n",
    "#trips = pd.concat([trips1, trips2, trips3, trips4])\n",
    "stations = pd.read_csv('~/TDI/divvy/useful_data/Divvy_Stations_2014-Q3Q4.csv').set_index('id')"
   ]
  },
  {
   "cell_type": "markdown",
   "metadata": {},
   "source": [
    "# Bike Sharing System in Chicago\n",
    "\n",
    "## 1. Explore ~2.5 million trips in 2014\n",
    "## 2. Investigate the net flow of bikes for all the stations\n",
    "## Q: What are the best locations for new bike stations to gain more business?\n",
    "## Q: What is the most cost-effective way to redistribute bikes to balance the flow?"
   ]
  },
  {
   "cell_type": "code",
   "execution_count": null,
   "metadata": {
    "collapsed": false
   },
   "outputs": [],
   "source": [
    "def convert_date(old_date):\n",
    "    new_date = datetime.strptime(old_date, '%m/%d/%Y %H:%M')\n",
    "    return new_date\n",
    "\n",
    "trips2.starttime = trips2.starttime.map(convert_date)\n",
    "trips2.stoptime = trips2.stoptime.map(convert_date)"
   ]
  },
  {
   "cell_type": "code",
   "execution_count": null,
   "metadata": {
    "collapsed": false
   },
   "outputs": [],
   "source": [
    "def is_weekday(a_date):\n",
    "    if a_date.weekday() in (0, 1, 2, 3, 4):\n",
    "        return True\n",
    "    else:\n",
    "        return False\n",
    "\n",
    "def is_weekend(a_date):\n",
    "    if a_date.weekday() in (5, 6):\n",
    "        return True\n",
    "    else:\n",
    "        return False\n",
    "\n",
    "def is_am_rh(a_date):\n",
    "    if 7 <= a_date.hour < 10:\n",
    "        return True\n",
    "    else:\n",
    "        return False\n",
    "\n",
    "def is_pm_rh(a_date):\n",
    "    if 16 <= a_date.hour < 19:\n",
    "        return True\n",
    "    else:\n",
    "        return False\n",
    "    \n",
    "def is_b2pm(a_date):\n",
    "    if a_date.hour <= 14:\n",
    "        return True\n",
    "    else:\n",
    "        return False\n",
    "\n",
    "def is_a6pm(a_date):\n",
    "    if a_date.hour > 18:\n",
    "        return True\n",
    "    else:\n",
    "        return False"
   ]
  },
  {
   "cell_type": "code",
   "execution_count": null,
   "metadata": {
    "collapsed": false
   },
   "outputs": [],
   "source": [
    "trips_weekday = trips2[trips2.starttime.map(is_weekday)]\n",
    "trips_weekend = trips2[trips2.starttime.map(is_weekend)]\n",
    "\n",
    "trips_weekday_am_rh = trips_weekday[trips_weekday.starttime.map(is_am_rh)]\n",
    "trips_weekday_pm_rh = trips_weekday[trips_weekday.starttime.map(is_pm_rh)]\n",
    "\n",
    "trips_weekend_b2pm = trips_weekend[trips_weekend.starttime.map(is_b2pm)]\n",
    "trips_weekend_a6pm = trips_weekend[trips_weekend.starttime.map(is_a6pm)]"
   ]
  },
  {
   "cell_type": "code",
   "execution_count": null,
   "metadata": {
    "collapsed": false
   },
   "outputs": [],
   "source": [
    "trips = trips_weekend_b2pm"
   ]
  },
  {
   "cell_type": "code",
   "execution_count": null,
   "metadata": {
    "collapsed": false
   },
   "outputs": [],
   "source": [
    "flow_out = trips.groupby(['from_station_id']).size()\n",
    "flow_in = trips.groupby(['to_station_id']).size()\n",
    "net_flow = flow_in - flow_out\n",
    "net_flow.index.name = 'station_id'"
   ]
  },
  {
   "cell_type": "code",
   "execution_count": null,
   "metadata": {
    "collapsed": false
   },
   "outputs": [],
   "source": [
    "net_in = net_flow.ix[net_flow > 0]\n",
    "net_out = net_flow.ix[net_flow < 0]\n",
    "new_net_flow = pd.concat([net_in, net_out])"
   ]
  },
  {
   "cell_type": "code",
   "execution_count": null,
   "metadata": {
    "collapsed": false
   },
   "outputs": [],
   "source": [
    "net_in_lon = stations.ix[net_in.index]['longitude']\n",
    "net_in_lat = stations.ix[net_in.index]['latitude']\n",
    "net_in_cap = stations.ix[net_in.index]['dpcapacity']\n",
    "net_in_name = stations.ix[net_in.index]['name']\n",
    "\n",
    "net_out_lon = stations.ix[net_out.index]['longitude']\n",
    "net_out_lat = stations.ix[net_out.index]['latitude']\n",
    "net_out_cap = stations.ix[net_out.index]['dpcapacity']\n",
    "net_out_name = stations.ix[net_out.index]['name']\n",
    "\n",
    "new_lon = pd.concat([net_in_lon, net_out_lon])\n",
    "new_lat = pd.concat([net_in_lat, net_out_lat])\n",
    "new_cap = pd.concat([net_in_cap, net_out_cap])\n",
    "new_name = pd.concat([net_in_name, net_out_name])"
   ]
  },
  {
   "cell_type": "raw",
   "metadata": {
    "collapsed": false
   },
   "source": [
    "output_notebook()"
   ]
  },
  {
   "cell_type": "raw",
   "metadata": {
    "collapsed": false
   },
   "source": [
    "TOOLS = \"pan, wheel_zoom, box_zoom, reset, hover, save\"\n",
    "source = ColumnDataSource(\n",
    "    data = dict(\n",
    "        x = new_lon,\n",
    "        y = new_lat,\n",
    "        radius = np.sqrt(abs(new_net_flow))/10000,\n",
    "        color = ['#FF0000']*len(net_in) + ['#0000FF']*len(net_out),\n",
    "        name = new_name,\n",
    "        capacity = new_cap,\n",
    "        flow = new_net_flow,\n",
    "    )\n",
    ")"
   ]
  },
  {
   "cell_type": "raw",
   "metadata": {
    "collapsed": false
   },
   "source": [
    "p = figure(title=\"Net Flow Weekend PM\", tools=TOOLS)\n",
    "p.scatter('x', 'y', radius='radius', fill_color='color', fill_alpha=0.5, line_color=None, source=source)\n",
    "p.xaxis.axis_label = 'Longitude'\n",
    "p.yaxis.axis_label = 'Latitude'"
   ]
  },
  {
   "cell_type": "raw",
   "metadata": {
    "collapsed": false
   },
   "source": [
    "hover = p.select(dict(type=HoverTool))\n",
    "hover.point_policy = \"follow_mouse\"\n",
    "hover.tooltips = OrderedDict([\n",
    "    (\"Station\", \"@name\"),\n",
    "    (\"Capacity\", \"@capacity bikes\"),\n",
    "    (\"Net Flow\", \"@flow trips\"),\n",
    "])"
   ]
  },
  {
   "cell_type": "raw",
   "metadata": {},
   "source": [
    "stations.ix[stations.dpcapacity.idxmax()]\n",
    "stations.dpcapacity.describe()"
   ]
  },
  {
   "cell_type": "markdown",
   "metadata": {
    "collapsed": true
   },
   "source": [
    "## NEXT STEPS:\n",
    "\n",
    "I. Superimpose a map of Chicago in order to label the landmarks near bike stations.\n",
    "\n",
    "II. Segement the data using the following criteria and generate separate plots:\n",
    "1. Weekdays vs Weekends\n",
    "2. Mornings vs Afternoons\n",
    "3. Members vs Non-members (approx. Locals vs Tourists)\n",
    "\n",
    "III. Design a webpage to present the plots and the findings\n",
    "\n",
    "IV. Figure out the most cost-effective way to redistribute bikes to balance the net flow"
   ]
  },
  {
   "cell_type": "code",
   "execution_count": null,
   "metadata": {
    "collapsed": false
   },
   "outputs": [],
   "source": [
    "from __future__ import print_function\n",
    "\n",
    "from bokeh.browserlib import view\n",
    "from bokeh.document import Document\n",
    "from bokeh.embed import file_html\n",
    "#from bokeh.models.glyphs import Circle\n",
    "from bokeh.models import (\n",
    "    GMapPlot, Range1d, ColumnDataSource, LinearAxis,\n",
    "    PanTool, WheelZoomTool, BoxSelectTool,\n",
    "    BoxSelectionOverlay, GMapOptions,\n",
    "    NumeralTickFormatter, PrintfTickFormatter)\n",
    "from bokeh.resources import INLINE\n",
    "\n",
    "x_range = Range1d()\n",
    "y_range = Range1d()\n",
    "\n",
    "# 41.8827° N, 87.6227° W for Millenium Park\n",
    "\n",
    "# JSON style string taken from: https://snazzymaps.com/style/1/pale-dawn\n",
    "map_options = GMapOptions(lat=41.8827, lng=-87.6227, map_type=\"roadmap\", zoom=13, styles=\"\"\"\n",
    "[{\"featureType\":\"administrative\",\"elementType\":\"all\",\"stylers\":[{\"visibility\":\"on\"},{\"lightness\":33}]},{\"featureType\":\"landscape\",\"elementType\":\"all\",\"stylers\":[{\"color\":\"#f2e5d4\"}]},{\"featureType\":\"poi.park\",\"elementType\":\"geometry\",\"stylers\":[{\"color\":\"#c5dac6\"}]},{\"featureType\":\"poi.park\",\"elementType\":\"labels\",\"stylers\":[{\"visibility\":\"on\"},{\"lightness\":20}]},{\"featureType\":\"road\",\"elementType\":\"all\",\"stylers\":[{\"lightness\":20}]},{\"featureType\":\"road.highway\",\"elementType\":\"geometry\",\"stylers\":[{\"color\":\"#c5c6c6\"}]},{\"featureType\":\"road.arterial\",\"elementType\":\"geometry\",\"stylers\":[{\"color\":\"#e4d7c6\"}]},{\"featureType\":\"road.local\",\"elementType\":\"geometry\",\"stylers\":[{\"color\":\"#fbfaf7\"}]},{\"featureType\":\"water\",\"elementType\":\"all\",\"stylers\":[{\"visibility\":\"on\"},{\"color\":\"#acbcc9\"}]}]\n",
    "\"\"\")\n",
    "\n",
    "plot = GMapPlot(\n",
    "    x_range=x_range, y_range=y_range,\n",
    "    map_options=map_options,\n",
    "    title = \"Net Flow Weekend Before 2PM\"\n",
    ")\n",
    "\n",
    "'''\n",
    "source = ColumnDataSource(\n",
    "    data=dict(\n",
    "        lat=[30.2861, 30.2855, 30.2869],\n",
    "        lon=[-97.7394, -97.7390, -97.7405],\n",
    "        fill=['orange', 'blue', 'green']\n",
    "    )\n",
    ")\n",
    "'''\n",
    "\n",
    "source = ColumnDataSource(\n",
    "    data = dict(\n",
    "        lon = new_lon,\n",
    "        lat = new_lat,\n",
    "        radius = np.sqrt(abs(new_net_flow)),\n",
    "        color = ['#FF0000']*len(net_in) + ['#0000FF']*len(net_out),\n",
    "        name = new_name,\n",
    "        capacity = new_cap,\n",
    "        flow = new_net_flow,\n",
    "    )\n",
    ")\n",
    "\n",
    "circle = Circle(x=\"lon\", y=\"lat\", size=\"radius\", fill_color=\"color\", line_color=None, fill_alpha=0.5)\n",
    "plot.add_glyph(source, circle)\n",
    "#plot.scatter('x', 'y', radius='radius', fill_color='color', fill_alpha=0.5, line_color=None, source=source)\n",
    "\n",
    "pan = PanTool()\n",
    "wheel_zoom = WheelZoomTool()\n",
    "box_select = BoxSelectTool()\n",
    "\n",
    "plot.add_tools(pan, wheel_zoom, box_select)\n",
    "\n",
    "xaxis = LinearAxis(axis_label=\"lat\", major_tick_in=0, formatter=NumeralTickFormatter(format=\"0.000\"))\n",
    "plot.add_layout(xaxis, 'below')\n",
    "\n",
    "yaxis = LinearAxis(axis_label=\"lon\", major_tick_in=0, formatter=PrintfTickFormatter(format=\"%.3f\"))\n",
    "plot.add_layout(yaxis, 'left')\n",
    "\n",
    "overlay = BoxSelectionOverlay(tool=box_select)\n",
    "plot.add_layout(overlay)\n",
    "\n",
    "doc = Document()\n",
    "doc.add(plot)\n",
    "\n",
    "if __name__ == \"__main__\":\n",
    "    filename = \"weekend_b2pm.html\"\n",
    "    with open(filename, \"w\") as f:\n",
    "        f.write(file_html(doc, INLINE, \"Google Maps Example\"))\n",
    "    print(\"Wrote %s\" % filename)\n",
    "    view(filename)"
   ]
  }
 ],
 "metadata": {
  "kernelspec": {
   "display_name": "Python 2",
   "language": "python",
   "name": "python2"
  },
  "language_info": {
   "codemirror_mode": {
    "name": "ipython",
    "version": 2
   },
   "file_extension": ".py",
   "mimetype": "text/x-python",
   "name": "python",
   "nbconvert_exporter": "python",
   "pygments_lexer": "ipython2",
   "version": "2.7.10"
  }
 },
 "nbformat": 4,
 "nbformat_minor": 0
}
