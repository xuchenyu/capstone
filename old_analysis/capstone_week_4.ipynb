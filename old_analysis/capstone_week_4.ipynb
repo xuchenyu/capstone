{
 "cells": [
  {
   "cell_type": "code",
   "execution_count": null,
   "metadata": {
    "collapsed": true
   },
   "outputs": [],
   "source": [
    "%matplotlib inline\n",
    "import numpy as np\n",
    "import pandas as pd\n",
    "import cPickle as pickle\n",
    "from datetime import datetime\n",
    "from scipy.optimize import curve_fit\n",
    "#pd.set_option('notebook_repr_html', False)\n",
    "#pd.set_option('display.max_rows', 20)\n",
    "\n",
    "from sklearn.base import BaseEstimator, RegressorMixin, TransformerMixin\n",
    "from sklearn.cross_validation import train_test_split\n",
    "from sklearn.metrics import mean_squared_error\n",
    "from sklearn.grid_search import GridSearchCV\n",
    "from sklearn.cluster import KMeans\n",
    "from sklearn.neighbors import KNeighborsRegressor\n",
    "from sklearn.linear_model import LinearRegression, Ridge\n",
    "from sklearn.ensemble import RandomForestRegressor\n",
    "from sklearn.pipeline import Pipeline, FeatureUnion\n",
    "\n",
    "import seaborn as sns\n",
    "import matplotlib\n",
    "matplotlib.rcParams['savefig.dpi'] = 1.5 * matplotlib.rcParams['savefig.dpi']\n",
    "from matplotlib import pyplot as plt\n",
    "from collections import OrderedDict\n",
    "from bokeh.plotting import figure, show, output_notebook, ColumnDataSource\n",
    "from bokeh.models.glyphs import Circle\n",
    "from bokeh.models import (\n",
    "    GMapPlot, GMapOptions, Range1d, ColumnDataSource,\n",
    "    PanTool, WheelZoomTool, BoxZoomTool, BoxSelectTool, ResetTool, PreviewSaveTool, HoverTool)"
   ]
  },
  {
   "cell_type": "raw",
   "metadata": {},
   "source": [
    "trips1 = pd.read_csv('~/TDI/divvy/useful_data/Divvy_Trips_2014-Q1Q2.csv')\n",
    "trips2 = pd.read_csv('~/TDI/divvy/useful_data/Divvy_Trips_2014-Q3-07.csv')\n",
    "trips3 = pd.read_csv('~/TDI/divvy/useful_data/Divvy_Trips_2014-Q3-0809.csv')\n",
    "trips4 = pd.read_csv('~/TDI/divvy/useful_data/Divvy_Trips_2014-Q4.csv')\n",
    "\n",
    "trips_df = pd.concat([trips1, trips2, trips3, trips4]).set_index('trip_id').sort()\n",
    "stations_df = pd.read_csv('~/TDI/divvy/useful_data/Divvy_Stations_2014-Q3Q4.csv').set_index('id').sort()\n",
    "\n",
    "def convert_date(time):\n",
    "    return datetime.strptime(time, '%m/%d/%Y %H:%M')\n",
    "trips_df.starttime = trips_df.starttime.map(convert_date)\n",
    "trips_df.stoptime = trips_df.stoptime.map(convert_date)\n",
    "\n",
    "def get_month(a_datetime):\n",
    "    return a_datetime.date().month\n",
    "trips_df['startmonth'] = trips_df.starttime.map(get_month)\n",
    "\n",
    "#pickle.dump(trips_df, open('trips_2014.pickle', 'w'))\n",
    "#pickle.dump(stations_df, open('stations_2014.pickle', 'w'))"
   ]
  },
  {
   "cell_type": "raw",
   "metadata": {
    "collapsed": true
   },
   "source": [
    "months = range(1, 13)\n",
    "bikeids = np.sort(trips_df.bikeid.unique())\n",
    "gaps_by_month_bikeid = {month: {} for month in months}\n",
    "for month in months:\n",
    "    # selecting out trips in one month reduces a little the counting of gaps\n",
    "    trips_month = trips_df[trips_df.startmonth==month]\n",
    "    for bikeid in bikeids:\n",
    "        trips = trips_month[trips_month.bikeid==bikeid]\n",
    "        starttimes = trips.starttime.values[1:]\n",
    "        stoptimes = trips.stoptime.values[:-1]\n",
    "        gaps_by_month_bikeid[month][bikeid] = (starttimes-stoptimes).astype(float)/10**9/3600  # in hour\n",
    "        \n",
    "#pickle.dump(gaps_by_month_bikeid, open('gaps_by_month_bikeid.pickle', 'w'))"
   ]
  },
  {
   "cell_type": "code",
   "execution_count": null,
   "metadata": {
    "collapsed": false
   },
   "outputs": [],
   "source": [
    "trips_df = pickle.load(open('trips_2014.pickle', 'r'))\n",
    "stations_df = pickle.load(open('stations_2014.pickle', 'r'))\n",
    "gaps_by_month_bikeid = pickle.load(open('gaps_by_month_bikeid.pickle', 'r'))\n",
    "\n",
    "months = range(1, 13)\n",
    "bikeids = np.sort(trips_df.bikeid.unique())\n",
    "gaps_by_bikeid = {bikeid: np.concatenate([gaps_by_month_bikeid[month][bikeid] for month in months]) for bikeid in bikeids}\n",
    "gaps_by_month = {month: np.concatenate([gaps_by_month_bikeid[month][bikeid] for bikeid in bikeids]) for month in months}\n",
    "all_gaps = np.concatenate([gaps_by_month[month] for month in months])  # the only useful gaps data\n",
    "\n",
    "print len(trips_df), len(all_gaps), len(stations_df)"
   ]
  },
  {
   "cell_type": "code",
   "execution_count": null,
   "metadata": {
    "collapsed": false
   },
   "outputs": [],
   "source": [
    "def func(t, tau, A):\n",
    "    return A*np.exp(-t/tau)\n",
    "\n",
    "short_gaps = all_gaps[(all_gaps>0.5) & (all_gaps<4.5)]\n",
    "hist_data = np.histogram(short_gaps, bins=16)\n",
    "xs = (hist_data[1][:-1]+hist_data[1][1:])/2\n",
    "ys = hist_data[0]\n",
    "tau, A = curve_fit(func, xs, ys, p0=[2.0, 10**5])[0]\n",
    "print 'average time between two trips is %.2f hours' % tau\n",
    "\n",
    "plt.suptitle('Histogram of Time Intervals', fontsize=18)\n",
    "\n",
    "plt.subplot(2,1,1)\n",
    "plt.hist(short_gaps, bins=16, alpha=0.5, color='b')\n",
    "xs0 = np.linspace(0.5, 4.5, 25)\n",
    "plt.plot(xs0, func(xs0, tau, A),'r--')\n",
    "plt.xlim(0.5, 4.5)\n",
    "plt.ylabel('Count', fontsize=16)\n",
    "\n",
    "plt.subplot(2,1,2)\n",
    "long_gaps = all_gaps[(all_gaps>4) & (all_gaps<12)]\n",
    "plt.hist(long_gaps, bins=16, color='b', alpha=0.5)\n",
    "plt.xlim(4, 12)\n",
    "plt.xlabel('Hour', fontsize=16)\n",
    "plt.ylabel('Count', fontsize=16)\n",
    "plt.show()"
   ]
  },
  {
   "cell_type": "code",
   "execution_count": null,
   "metadata": {
    "collapsed": false
   },
   "outputs": [],
   "source": [
    "# label: number of maintenances\n",
    "\n",
    "cutoff = 48.0  # 5*tau+8.5 = 16!\n",
    "n_maints = np.array([len(filter(lambda t: t>cutoff, gaps_by_bikeid[bikeid])) for bikeid in bikeids])\n",
    "plt.suptitle('Histogram of Maintenances', fontsize=18)\n",
    "plt.hist(n_maints, bins=16, color='b', alpha=0.5)\n",
    "plt.xlabel('Number', fontsize=16)\n",
    "plt.ylabel('Count', fontsize=16)\n",
    "plt.show()"
   ]
  },
  {
   "cell_type": "raw",
   "metadata": {},
   "source": [
    "# first feature: number of trips\n",
    "n_trips_by_bikeid = np.array([len(trips_df[trips_df.bikeid==bikeid]) for bikeid in bikeids])\n",
    "pickle.dump(n_trips_by_bikeid, open('n_trips_by_bikeid.pickle', 'w'))"
   ]
  },
  {
   "cell_type": "code",
   "execution_count": null,
   "metadata": {
    "collapsed": false
   },
   "outputs": [],
   "source": [
    "n_trips = pickle.load(open('n_trips_by_bikeid.pickle', 'r'))\n",
    "plt.hist(n_trips, bins=15, color='b', alpha=0.5)\n",
    "plt.xlabel('Number of trips')\n",
    "plt.ylabel('Count')\n",
    "plt.show()"
   ]
  },
  {
   "cell_type": "raw",
   "metadata": {
    "collapsed": false
   },
   "source": [
    "# use this to reduce trips_df data\n",
    "np.random.seed(42)\n",
    "random_indices = np.random.randint(0, len(trips_df), 250000)\n",
    "trips_short_df = trips_df.ix[trips_df.index[random_indices]].sort()"
   ]
  },
  {
   "cell_type": "raw",
   "metadata": {
    "collapsed": false
   },
   "source": [
    "# second feaures: number of trips in four seasons\n",
    "\n",
    "bikeids_dict = dict(zip(bikeids, range(len(bikeids))))\n",
    "#seasons_dict = {12: 0, 1: 0, 2: 0, 3: 1, 4: 1, 5: 1, 6: 2, 7: 2, 8: 2, 9: 3, 10: 3, 11: 3}\n",
    "n_trips_months = np.zeros((len(bikeids), 12))\n",
    "for tripid, info in trips_df.iterrows():\n",
    "    #n_trips_seasons[bikeids_dict[info.bikeid], seasons_dict[info.startmonth]] += 1\n",
    "    n_trips_seasons[bikeids_dict[info.bikeid], info.startmonth-1] += 1\n",
    "#pickle.dump(n_trips_seasons, open('n_trips_months.pickle', 'w'))"
   ]
  },
  {
   "cell_type": "code",
   "execution_count": null,
   "metadata": {
    "collapsed": false
   },
   "outputs": [],
   "source": [
    "#n_trips_seasons = pickle.load(open('n_trips_seasons.pickle', 'r'))\n",
    "n_trips_months = pickle.load(open('n_trips_months.pickle', 'r'))\n",
    "\n",
    "index = np.arange(12)\n",
    "bar_width = 0.75\n",
    "plt.bar(index, n_trips_months.sum(axis=0), bar_width, color='b', alpha=0.5)\n",
    "plt.title('Number of Trips in a Year')\n",
    "plt.ylabel('Count')\n",
    "plt.xticks(index+bar_width/2, ('JAN', 'FEB', 'MAR', 'APR', 'MAY', 'JUN', 'JUL', 'SEP', 'AUG', 'OCT', 'NOV', 'DEC'))\n",
    "#plt.xticks(index+bar_width/2, ('Winter', 'Spring', 'Summer', 'Autum'))\n",
    "plt.show()"
   ]
  },
  {
   "cell_type": "code",
   "execution_count": null,
   "metadata": {
    "collapsed": false
   },
   "outputs": [],
   "source": [
    "# third feaures: number of pass-bys at n_clusters of bike stations\n",
    "\n",
    "n_clusters = 9  # optimized from a smaller sample\n",
    "kmeans = KMeans(n_clusters=n_clusters).fit(stations_df[['latitude','longitude']].values)\n",
    "stations_df['cluster'] = kmeans.labels_\n",
    "lons = stations_df.longitude\n",
    "lats = stations_df.latitude\n",
    "names = stations_df.name\n",
    "# colors used to maximally distinguish clusters\n",
    "color_map_1 = ['#d53e4f', '#f46d43', '#fdae61', '#fee08b', '#ffffbf', '#e6f598', '#abdda4', '#66c2a5', '#3288bd']\n",
    "# colors used to show the graduate change among clusters\n",
    "color_map_2 = ['#fff5f0', '#fee0d2', '#fcbba1', '#fc9272', '#fb6a4a', '#ef3b2c', '#cb181d', '#a50f15', '#67000d']\n",
    "colors = [color_map_1[c] for c in stations_df.cluster]"
   ]
  },
  {
   "cell_type": "code",
   "execution_count": null,
   "metadata": {
    "collapsed": false,
    "scrolled": false
   },
   "outputs": [],
   "source": [
    "output_notebook()\n",
    "map_options = GMapOptions(lat=41.8827, lng=-87.6227, map_type=\"roadmap\", zoom=11)\n",
    "plot = GMapPlot(x_range=Range1d(), y_range=Range1d(), map_options=map_options, title=\"Clustering of Bike Stations\")\n",
    "plot.add_tools(PanTool(), WheelZoomTool(), BoxSelectTool(), ResetTool(), PreviewSaveTool(), HoverTool())\n",
    "source = ColumnDataSource(data=dict(x = lons, y = lats, radius = [12.5]*300, color = colors, name = names))\n",
    "circle = Circle(x=\"x\", y=\"y\", size=\"radius\", fill_color=\"color\", line_color=None, fill_alpha=0.75)\n",
    "plot.add_glyph(source, circle)\n",
    "hover = plot.select(dict(type=HoverTool))\n",
    "hover.point_policy = \"follow_mouse\"\n",
    "hover.tooltips = OrderedDict([(\"Station\", \"@name\")])\n",
    "show(plot)"
   ]
  },
  {
   "cell_type": "raw",
   "metadata": {
    "collapsed": false
   },
   "source": [
    "bikeids_dict = dict(zip(bikeids, range(len(bikeids))))\n",
    "n_trips_clusters = np.zeros((len(bikeids), n_clusters))\n",
    "for tripid, info in trips_df.iterrows():\n",
    "    n_trips_clusters[bikeids_dict[info.bikeid], stations_df.ix[info.from_station_id].cluster] += 1\n",
    "    n_trips_clusters[bikeids_dict[info.bikeid], stations_df.ix[info.to_station_id].cluster] += 1\n",
    "    \n",
    "#pickle.dump(n_trips_clusters, open('n_trips_clusters.pickle', 'w'))"
   ]
  },
  {
   "cell_type": "code",
   "execution_count": null,
   "metadata": {
    "collapsed": false
   },
   "outputs": [],
   "source": [
    "n_trips_clusters = pickle.load(open('n_trips_clusters.pickle', 'r'))\n",
    "\n",
    "index = np.arange(n_clusters)\n",
    "bar_width = 0.75\n",
    "plt.bar(index, n_trips_clusters.sum(axis=0), bar_width, color=color_map, alpha=0.5)\n",
    "plt.title('Number of Pass-bys in %d Clusters of Bike Stations' % n_clusters)\n",
    "plt.ylabel('Count')\n",
    "plt.xticks(index+bar_width/2, ['CL %s' % i for i in index])\n",
    "plt.show()"
   ]
  },
  {
   "cell_type": "code",
   "execution_count": null,
   "metadata": {
    "collapsed": false
   },
   "outputs": [],
   "source": [
    "# Month Model\n",
    "\n",
    "np.random.seed(42)\n",
    "random_indices = np.random.permutation(len(bikeids))\n",
    "X_random = n_trips_months[random_indices]\n",
    "y_random = n_maints[random_indices]\n",
    "X_train, X_test, y_train, y_test = train_test_split(X_random, y_random, test_size=0.2, random_state=42)\n",
    "\n",
    "estimator = LinearRegression()\n",
    "estimator.fit(X_train, y_train)\n",
    "print estimator.score(X_test, y_test)\n",
    "\n",
    "#parameters = {'n_estimators': range(30, 50, 1)}\n",
    "#estimator = GridSearchCV(RandomForestRegressor(), parameters, cv=5)\n",
    "estimator = RandomForestRegressor(n_estimators=79)\n",
    "estimator.fit(X_train, y_train)\n",
    "print estimator.score(X_test, y_test)\n",
    "#print estimator.best_params_"
   ]
  },
  {
   "cell_type": "code",
   "execution_count": null,
   "metadata": {
    "collapsed": false
   },
   "outputs": [],
   "source": [
    "# Station-Cluster Model\n",
    "\n",
    "np.random.seed(42)\n",
    "random_indices = np.random.permutation(len(bikeids))\n",
    "X_random = n_trips_clusters[random_indices]\n",
    "y_random = n_maints[random_indices]\n",
    "X_train, X_test, y_train, y_test = train_test_split(X_random, y_random, test_size=0.2, random_state=42)\n",
    "\n",
    "estimator = LinearRegression()\n",
    "estimator.fit(X_train, y_train)\n",
    "print estimator.score(X_test, y_test)\n",
    "\n",
    "#parameters = {'n_neighbors': range(10, 20, 1)}\n",
    "#estimator = GridSearchCV(KNeighborsRegressor(), parameters, cv=5)\n",
    "estimator = KNeighborsRegressor(n_neighbors=99)\n",
    "estimator.fit(X_train, y_train)\n",
    "print estimator.score(X_test, y_test)\n",
    "#print estimator.best_params_"
   ]
  },
  {
   "cell_type": "code",
   "execution_count": null,
   "metadata": {
    "collapsed": false
   },
   "outputs": [],
   "source": [
    "bikes_df = pd.DataFrame(\n",
    "    np.hstack((\n",
    "            bikeids.reshape(-1,1), \n",
    "            n_maints.reshape(-1,1),  \n",
    "            n_trips.reshape(-1,1), \n",
    "            n_trips_months, \n",
    "            n_trips_clusters, \n",
    "        )), \n",
    "    columns=['bikeid', 'n_maints', 'n_trips',\n",
    "             'JAN', 'FEB', 'MAR', 'APR', 'MAY', 'JUN', 'JUL', 'SEP', 'AUG', 'OCT', 'NOV', 'DEC', \n",
    "             'CL1', 'CL2', 'CL3', 'CL4', 'CL5', 'CL6', 'CL7', 'CL8', 'CL9']\n",
    ").set_index('bikeid')\n",
    "#pickle.dump(bikes_df, open('bikes_df.pickle', 'w'))"
   ]
  },
  {
   "cell_type": "code",
   "execution_count": null,
   "metadata": {
    "collapsed": true
   },
   "outputs": [],
   "source": [
    "bikes_df = pickle.load(open('bikes_df.pickle', 'r'))"
   ]
  },
  {
   "cell_type": "code",
   "execution_count": null,
   "metadata": {
    "collapsed": false
   },
   "outputs": [],
   "source": [
    "bikes_df.head()"
   ]
  },
  {
   "cell_type": "code",
   "execution_count": null,
   "metadata": {
    "collapsed": true
   },
   "outputs": [],
   "source": []
  },
  {
   "cell_type": "code",
   "execution_count": null,
   "metadata": {
    "collapsed": true
   },
   "outputs": [],
   "source": []
  },
  {
   "cell_type": "code",
   "execution_count": null,
   "metadata": {
    "collapsed": false
   },
   "outputs": [],
   "source": [
    "np.random.seed(42)\n",
    "random_indices = np.random.permutation(len(bikeids))\n",
    "# range(2, 13) for JAN to NOV, range(14, 22) for CL1 to CL8\n",
    "X_random = bikes_df[range(1,13)+range(14,22)].values[random_indices]\n",
    "y_random = bikes_df.n_maints.values[random_indices]\n",
    "X_train, X_test, y_train, y_test = train_test_split(X_random, y_random, test_size=0.2, random_state=42)\n",
    "\n",
    "#estimator = KNeighborsRegressor(n_neighbors=45)\n",
    "estimator = LinearRegression()\n",
    "estimator.fit(X_train, y_train)\n",
    "print estimator.score(X_test, y_test)\n",
    "plt.plot(estimator.coef_)"
   ]
  },
  {
   "cell_type": "code",
   "execution_count": null,
   "metadata": {
    "collapsed": true
   },
   "outputs": [],
   "source": []
  }
 ],
 "metadata": {
  "kernelspec": {
   "display_name": "Python 2",
   "language": "python",
   "name": "python2"
  },
  "language_info": {
   "codemirror_mode": {
    "name": "ipython",
    "version": 2
   },
   "file_extension": ".py",
   "mimetype": "text/x-python",
   "name": "python",
   "nbconvert_exporter": "python",
   "pygments_lexer": "ipython2",
   "version": "2.7.10"
  }
 },
 "nbformat": 4,
 "nbformat_minor": 0
}
